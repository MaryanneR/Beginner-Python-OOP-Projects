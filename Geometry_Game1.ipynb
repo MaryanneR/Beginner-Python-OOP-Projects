{
  "nbformat": 4,
  "nbformat_minor": 0,
  "metadata": {
    "colab": {
      "provenance": [],
      "authorship_tag": "ABX9TyM1j+KIMiGEdLT3G4wuNWru",
      "include_colab_link": true
    },
    "kernelspec": {
      "name": "python3",
      "display_name": "Python 3"
    },
    "language_info": {
      "name": "python"
    }
  },
  "cells": [
    {
      "cell_type": "markdown",
      "metadata": {
        "id": "view-in-github",
        "colab_type": "text"
      },
      "source": [
        "<a href=\"https://colab.research.google.com/github/MaryanneR/Python-OOP/blob/main/Geometry_Game1.ipynb\" target=\"_parent\"><img src=\"https://colab.research.google.com/assets/colab-badge.svg\" alt=\"Open In Colab\"/></a>"
      ]
    },
    {
      "cell_type": "markdown",
      "source": [
        "### Geometry Game"
      ],
      "metadata": {
        "id": "FcwXFHoxDreD"
      }
    },
    {
      "cell_type": "markdown",
      "source": [
        "Check to see if a point falls within a rectangle"
      ],
      "metadata": {
        "id": "sPNfR0-cD4fQ"
      }
    },
    {
      "cell_type": "code",
      "source": [
        "# Define Point class\n",
        "\n",
        "class Point:\n",
        "\n",
        "    def __init__(self, x, y):\n",
        "        self.x = x\n",
        "        self.y = y\n",
        "\n",
        "    def falls_in_rectangle(self, rectangle):\n",
        "        if rectangle.point1.x < self.x < rectangle.point2.x \\\n",
        "        and rectangle.point1.y < self.y < rectangle.point2.y:\n",
        "            return True\n",
        "        else:\n",
        "            return False"
      ],
      "metadata": {
        "id": "DWSt77Y_Dvxv"
      },
      "execution_count": null,
      "outputs": []
    },
    {
      "cell_type": "code",
      "source": [
        "# Define Rectangle class\n",
        "\n",
        "class Rectangle:\n",
        "\n",
        "    def __init__(self, point1, point2):\n",
        "        self.point1 = point1\n",
        "        self.point2 = point2"
      ],
      "metadata": {
        "id": "WbRWP2l2EDny"
      },
      "execution_count": null,
      "outputs": []
    },
    {
      "cell_type": "code",
      "source": [
        "from random import randint"
      ],
      "metadata": {
        "id": "gQnv71_iF7Tc"
      },
      "execution_count": null,
      "outputs": []
    },
    {
      "cell_type": "code",
      "source": [
        "# Create a random rectangle object with randint\n",
        "\n",
        "rectangle = Rectangle(\n",
        "    Point(randint (0, 9), randint(0, 9)),\n",
        "    Point(randint(10,19), randint(10, 19)))\n",
        "\n",
        "print(\"Rectangle Coordinates: \",\n",
        "      rectangle.point1.x, \",\",\n",
        "      rectangle.point1.y, \",\",\n",
        "      rectangle.point2.x, \",\",\n",
        "      rectangle.point2.y)"
      ],
      "metadata": {
        "colab": {
          "base_uri": "https://localhost:8080/"
        },
        "id": "1sBqQqVsGpFg",
        "outputId": "eec90ef9-3b7a-42ad-e0cc-33cc34bf44dc"
      },
      "execution_count": null,
      "outputs": [
        {
          "output_type": "stream",
          "name": "stdout",
          "text": [
            "Rectangle Coordinates:  6 , 9 , 16 , 15\n"
          ]
        }
      ]
    },
    {
      "cell_type": "code",
      "source": [
        "# Get point coordinates from user and see if it falls within the random rectangle\n",
        "\n",
        "user_point = Point(float(input(\"Guess X: \")),\n",
        "                   float(input(\"Guess Y: \")))\n",
        "\n",
        "print(\"Your point was inside the rectangle: \",\n",
        "      user_point.falls_in_rectangle(rectangle))"
      ],
      "metadata": {
        "colab": {
          "base_uri": "https://localhost:8080/"
        },
        "id": "EYInzX5mGrU0",
        "outputId": "e9f6c53b-d0d7-44ce-d388-cf62f376edb3"
      },
      "execution_count": null,
      "outputs": [
        {
          "output_type": "stream",
          "name": "stdout",
          "text": [
            "Guess X: 7\n",
            "Guess Y: 14\n",
            "Your point was inside the rectangle:  True\n"
          ]
        }
      ]
    },
    {
      "cell_type": "code",
      "source": [],
      "metadata": {
        "id": "eS66aGdMHnZs"
      },
      "execution_count": null,
      "outputs": []
    }
  ]
}